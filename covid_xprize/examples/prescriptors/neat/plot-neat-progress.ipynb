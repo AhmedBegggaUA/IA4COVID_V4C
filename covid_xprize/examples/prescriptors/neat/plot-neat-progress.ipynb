{
 "cells": [
  {
   "cell_type": "code",
   "execution_count": null,
   "metadata": {},
   "outputs": [],
   "source": [
    "# Copyright 2020 (c) Cognizant Digital Business, Evolutionary AI. All rights reserved. Issued under the Apache 2.0 License."
   ]
  },
  {
   "cell_type": "code",
   "execution_count": null,
   "metadata": {},
   "outputs": [],
   "source": [
    "#\n",
    "# Sample notebook for plotting neat progress\n",
    "#"
   ]
  },
  {
   "cell_type": "code",
   "execution_count": null,
   "metadata": {},
   "outputs": [],
   "source": [
    "import matplotlib.pyplot as plt\n",
    "%matplotlib inline\n",
    "import neat"
   ]
  },
  {
   "cell_type": "code",
   "execution_count": null,
   "metadata": {
    "scrolled": true
   },
   "outputs": [],
   "source": [
    "NUM_CHECKPOINTS = 47 # Set based on how many checkpoints have been saved so far.\n",
    "best_fitness_over_time = []\n",
    "for i in range(NUM_CHECKPOINTS):\n",
    "    print('Checkpoint:', i)\n",
    "    checkpoint = neat.Checkpointer.restore_checkpoint('neat-checkpoint-{}'.format(i))\n",
    "    pop = checkpoint.population\n",
    "    best_fitness = -float('inf')\n",
    "    for j in pop:\n",
    "        if pop[j].fitness is not None:\n",
    "            print('Fitness for', j, ':', pop[j].fitness)\n",
    "            best_fitness = max(best_fitness, pop[j].fitness)\n",
    "        else:\n",
    "            print('No fitness for', j)\n",
    "    best_fitness_over_time.append(best_fitness)"
   ]
  },
  {
   "cell_type": "code",
   "execution_count": null,
   "metadata": {},
   "outputs": [],
   "source": [
    "plt.figure(figsize=(10,8))\n",
    "plt.plot(best_fitness_over_time)\n",
    "plt.xlabel('Generation')\n",
    "plt.ylabel('Fitness')\n",
    "plt.title('Best fitness by generation')"
   ]
  },
  {
   "cell_type": "code",
   "execution_count": null,
   "metadata": {},
   "outputs": [],
   "source": []
  }
 ],
 "metadata": {
  "kernelspec": {
   "display_name": "Python 3",
   "language": "python",
   "name": "python3"
  },
  "language_info": {
   "codemirror_mode": {
    "name": "ipython",
    "version": 3
   },
   "file_extension": ".py",
   "mimetype": "text/x-python",
   "name": "python",
   "nbconvert_exporter": "python",
   "pygments_lexer": "ipython3",
   "version": "3.7.2"
  }
 },
 "nbformat": 4,
 "nbformat_minor": 4
}

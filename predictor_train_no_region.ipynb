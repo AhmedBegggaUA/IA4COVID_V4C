{
 "cells": [
  {
   "cell_type": "code",
   "execution_count": 1,
   "metadata": {},
   "outputs": [],
   "source": [
    "import os\n",
    "import pandas as pd\n",
    "import numpy as np\n",
    "\n",
    "import sys\n",
    "sys.path.append('../valencia-ia4covid-xprize')\n",
    "\n",
    "import warnings\n",
    "warnings.simplefilter(\"ignore\")\n",
    "\n",
    "from covid_xprize.scoring.predictor_scoring import load_dataset\n",
    "from covid_xprize.scoring.predictor_scoring import add_population_column\n",
    "from covid_xprize.validation.predictor_validation import validate_submission\n",
    "\n",
    "import valencia_predictor\n",
    "from valencia_predictor import ValenciaPredictor\n",
    "from valencia_predictor import ModelPreset\n",
    "\n",
    "from importlib import reload\n",
    "\n",
    "import plotly.graph_objects as go\n",
    "import plotly.express as px"
   ]
  },
  {
   "cell_type": "markdown",
   "metadata": {},
   "source": [
    "## Load data set"
   ]
  },
  {
   "cell_type": "code",
   "execution_count": 2,
   "metadata": {},
   "outputs": [],
   "source": [
    "LATEST_DATA_URL = 'https://raw.githubusercontent.com/OxCGRT/covid-policy-tracker/master/data/OxCGRT_nat_latest.csv'\n",
    "GEO_FILE = \"data/countries_regions.csv\"\n",
    "DATA_FILE = 'data/OxCGRT_latest.csv'"
   ]
  },
  {
   "cell_type": "code",
   "execution_count": 3,
   "metadata": {},
   "outputs": [],
   "source": [
    "#latest_df = load_dataset(LATEST_DATA_URL, GEO_FILE)"
   ]
  },
  {
   "cell_type": "markdown",
   "metadata": {},
   "source": [
    "## Training"
   ]
  },
  {
   "cell_type": "code",
   "execution_count": 4,
   "metadata": {},
   "outputs": [],
   "source": [
    "training_geos = [\"United States\", \"Portugal\", \"United Kingdom\", \"Italy\", \"Spain\",\n",
    "                 \"Germany\", \"Israel\", \"France\", \"Greece\", \"Hungary\"]\n",
    "\n",
    "start_date_str = \"2020-9-01\"\n",
    "end_date_str = \"2021-3-31\"\n",
    "\n",
    "if not os.path.exists('model'):\n",
    "    os.mkdir('model')"
   ]
  },
  {
   "cell_type": "markdown",
   "metadata": {},
   "source": [
    "## Training presets:\n",
    "    - ModelPreset.VAC_H7: to train considering H7 NPI (vaccination)\n",
    "    - ModelPreset.None: no vaccination is considered"
   ]
  },
  {
   "cell_type": "code",
   "execution_count": 5,
   "metadata": {},
   "outputs": [],
   "source": [
    "train_preset = ModelPreset.VAC_H7_SUS\n",
    "#train_preset = ModelPreset.VAC_NONE\n",
    "\n",
    "if train_preset == 1:\n",
    "    preset = 'Vaccination'\n",
    "else:\n",
    "    preset = 'no Vaccination'\n",
    "\n",
    "path_to_model = f\"model/valencia_model_weights_apr.h5\""
   ]
  },
  {
   "cell_type": "code",
   "execution_count": null,
   "metadata": {},
   "outputs": [],
   "source": [
    "predictor = ValenciaPredictor(model_preset=train_preset)\n",
    "predictor_model = predictor.train(geos=training_geos, start_date_str=start_date_str, end_date_str=end_date_str) #, min_vaccination_percentage=min_vaccination)\n",
    "\n",
    "print('Saving model to', path_to_model)\n",
    "predictor_model.save_weights(path_to_model)"
   ]
  },
  {
   "cell_type": "markdown",
   "metadata": {},
   "source": [
    "## Predicting:"
   ]
  },
  {
   "cell_type": "code",
   "execution_count": null,
   "metadata": {},
   "outputs": [],
   "source": [
    "pred_start_date_str = \"2021-4-01\"\n",
    "pred_end_date_str = \"2021-4-30\"\n",
    "pred_start_date = pd.to_datetime(pred_start_date_str, format='%Y-%m-%d')\n",
    "pred_end_date = pd.to_datetime(pred_end_date_str, format='%Y-%m-%d')"
   ]
  },
  {
   "cell_type": "code",
   "execution_count": null,
   "metadata": {},
   "outputs": [],
   "source": [
    "preds_df = predictor.predict_df(pred_start_date, pred_end_date, LATEST_DATA_URL)"
   ]
  },
  {
   "cell_type": "code",
   "execution_count": null,
   "metadata": {},
   "outputs": [],
   "source": [
    "#Save the predictions\n",
    "preds_df.to_csv(\"predictions/robojudge_test_H7_SUS_apr.csv\")\n",
    "preds_df.head()"
   ]
  },
  {
   "cell_type": "code",
   "execution_count": null,
   "metadata": {},
   "outputs": [],
   "source": [
    "!nvidia-smi\n",
    "!kill -9 2049655 "
   ]
  },
  {
   "cell_type": "code",
   "execution_count": 5,
   "metadata": {},
   "outputs": [],
   "source": [
    "!kill -9 2445643    "
   ]
  },
  {
   "cell_type": "code",
   "execution_count": 6,
   "metadata": {},
   "outputs": [
    {
     "name": "stdout",
     "output_type": "stream",
     "text": [
      "Thu Mar 30 11:27:20 2023       \n",
      "+-----------------------------------------------------------------------------+\n",
      "| NVIDIA-SMI 510.54       Driver Version: 510.54       CUDA Version: 11.6     |\n",
      "|-------------------------------+----------------------+----------------------+\n",
      "| GPU  Name        Persistence-M| Bus-Id        Disp.A | Volatile Uncorr. ECC |\n",
      "| Fan  Temp  Perf  Pwr:Usage/Cap|         Memory-Usage | GPU-Util  Compute M. |\n",
      "|                               |                      |               MIG M. |\n",
      "|===============================+======================+======================|\n",
      "|   0  NVIDIA GeForce ...  Off  | 00000000:01:00.0 Off |                  N/A |\n",
      "| 57%   46C    P0   116W / 370W |      0MiB / 24576MiB |      0%      Default |\n",
      "|                               |                      |                  N/A |\n",
      "+-------------------------------+----------------------+----------------------+\n",
      "                                                                               \n",
      "+-----------------------------------------------------------------------------+\n",
      "| Processes:                                                                  |\n",
      "|  GPU   GI   CI        PID   Type   Process name                  GPU Memory |\n",
      "|        ID   ID                                                   Usage      |\n",
      "|=============================================================================|\n",
      "|  No running processes found                                                 |\n",
      "+-----------------------------------------------------------------------------+\n"
     ]
    }
   ],
   "source": [
    "!nvidia-smi"
   ]
  },
  {
   "cell_type": "code",
   "execution_count": null,
   "metadata": {},
   "outputs": [],
   "source": []
  }
 ],
 "metadata": {
  "kernelspec": {
   "display_name": "Python 3 (ipykernel)",
   "language": "python",
   "name": "python3"
  },
  "language_info": {
   "codemirror_mode": {
    "name": "ipython",
    "version": 3
   },
   "file_extension": ".py",
   "mimetype": "text/x-python",
   "name": "python",
   "nbconvert_exporter": "python",
   "pygments_lexer": "ipython3",
   "version": "3.8.10"
  }
 },
 "nbformat": 4,
 "nbformat_minor": 2
}
